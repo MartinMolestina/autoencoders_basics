{
 "cells": [
  {
   "cell_type": "code",
   "execution_count": 5,
   "id": "399c1785-e825-4103-a578-3b1b7cf67e91",
   "metadata": {},
   "outputs": [
    {
     "name": "stdout",
     "output_type": "stream",
     "text": [
      "GPU's disponibles:  1\n"
     ]
    }
   ],
   "source": [
    "# Librerias requeridas\n",
    "import tensorflow as tf  \n",
    "from tensorflow import keras\n",
    "import matplotlib.pyplot as plt\n",
    "import numpy as np\n",
    "import random\n",
    "\n",
    "# Prueba si TF reconoce el GPU\n",
    "print(\"GPU's disponibles: \", len(tf.config.list_physical_devices('GPU')))"
   ]
  },
  {
   "cell_type": "code",
   "execution_count": 6,
   "id": "31f10688-5d3c-4468-b4e5-0ed2a3f136e7",
   "metadata": {},
   "outputs": [],
   "source": [
    "# Importa el dataset mnist\n",
    "(x_train, y_train),(x_test, y_test) = tf.keras.datasets.mnist.load_data()\n",
    "\n",
    "# Normaliza los valores de los pixeles entre 0-1\n",
    "x_train = x_train/255.0  \n",
    "x_test = x_test/255.0  "
   ]
  },
  {
   "cell_type": "code",
   "execution_count": 25,
   "id": "356c5e28-fb70-4e29-8248-f2c8acef4c74",
   "metadata": {},
   "outputs": [
    {
     "data": {
      "text/plain": [
       "<matplotlib.image.AxesImage at 0x7f4e3c071160>"
      ]
     },
     "execution_count": 25,
     "metadata": {},
     "output_type": "execute_result"
    },
    {
     "data": {
      "image/png": "[encoded data removed]",
      "text/plain": [
       "<Figure size 432x288 with 1 Axes>"
      ]
     },
     "metadata": {
      "needs_background": "light"
     },
     "output_type": "display_data"
    }
   ],
   "source": [
    "# Muestra una de las imagenes del dataset de forma aleatoria\n",
    "plt.imshow(x_train[random.randint(0, len(x_train))], cmap=\"gray\")"
   ]
  },
  {
   "cell_type": "code",
   "execution_count": 33,
   "id": "22f1b577-54f7-4a21-9970-8c0229f17f3c",
   "metadata": {},
   "outputs": [],
   "source": [
    "\n",
    "# La primera capa de la Red Neuronal tiene que ser de 784 neuronas (28*28)\n",
    "encoder_input = keras.Input(shape=(28, 28, 1), name='img')\n",
    "x = keras.layers.Flatten()(encoder_input)\n",
    "# Se reduce a 64 neuronas \n",
    "encoder_output = keras.layers.Dense(64, activation=\"relu\")(x)\n",
    "\n",
    "# se define el modelo\n",
    "encoder = keras.Model(encoder_input, encoder_output, name='encoder')\n",
    "\n",
    "# Se define el decodificador\n",
    "decoder_input = keras.layers.Dense(64, activation=\"relu\")(encoder_output)\n",
    "# Layer de output de misma dimension que el input\n",
    "x = keras.layers.Dense(784, activation=\"relu\")(decoder_input)\n",
    "# Se ajusta a la forma de los pixeles de la imagen\n",
    "decoder_output = keras.layers.Reshape((28, 28, 1))(x)\n",
    "\n"
   ]
  },
  {
   "cell_type": "code",
   "execution_count": 23,
   "id": "f15a6777-6d39-4047-9c3a-75a0c4b4b340",
   "metadata": {},
   "outputs": [
    {
     "name": "stdout",
     "output_type": "stream",
     "text": [
      "Model: \"autoencoder\"\n",
      "_________________________________________________________________\n",
      "Layer (type)                 Output Shape              Param #   \n",
      "=================================================================\n",
      "img (InputLayer)             [(None, 28, 28, 1)]       0         \n",
      "_________________________________________________________________\n",
      "flatten_5 (Flatten)          (None, 784)               0         \n",
      "_________________________________________________________________\n",
      "dense_24 (Dense)             (None, 64)                50240     \n",
      "_________________________________________________________________\n",
      "dense_25 (Dense)             (None, 64)                4160      \n",
      "_________________________________________________________________\n",
      "dense_26 (Dense)             (None, 784)               50960     \n",
      "_________________________________________________________________\n",
      "reshape_2 (Reshape)          (None, 28, 28, 1)         0         \n",
      "=================================================================\n",
      "Total params: 105,360\n",
      "Trainable params: 105,360\n",
      "Non-trainable params: 0\n",
      "_________________________________________________________________\n"
     ]
    }
   ],
   "source": [
    "# se define el optimizador\n",
    "opt = tf.keras.optimizers.Adam(lr=0.001, decay=1e-6)\n",
    "\n",
    "# Se define el autoencoder desde input hasta output\n",
    "autoencoder = keras.Model(encoder_input, decoder_output, name='autoencoder')\n",
    "autoencoder.summary()\n",
    "\n",
    "autoencoder.compile(opt, loss='mse')\n",
    "\n"
   ]
  },
  {
   "cell_type": "code",
   "execution_count": 26,
   "id": "67a87d3d-6eb0-4291-8108-387e6745b775",
   "metadata": {},
   "outputs": [
    {
     "name": "stdout",
     "output_type": "stream",
     "text": [
      "3375/3375 [==============================] - 4s 1ms/step - loss: 0.0106 - val_loss: 0.0104\n",
      "INFO:tensorflow:Assets written to: models/AE-1.model/assets\n",
      "3375/3375 [==============================] - 4s 1ms/step - loss: 0.0102 - val_loss: 0.0100\n",
      "INFO:tensorflow:Assets written to: models/AE-2.model/assets\n",
      "3375/3375 [==============================] - 4s 1ms/step - loss: 0.0100 - val_loss: 0.0100\n",
      "INFO:tensorflow:Assets written to: models/AE-3.model/assets\n",
      "3375/3375 [==============================] - 4s 1ms/step - loss: 0.0098 - val_loss: 0.0099\n",
      "INFO:tensorflow:Assets written to: models/AE-4.model/assets\n",
      "3375/3375 [==============================] - 4s 1ms/step - loss: 0.0098 - val_loss: 0.0097\n",
      "INFO:tensorflow:Assets written to: models/AE-5.model/assets\n"
     ]
    }
   ],
   "source": [
    "# Se entrena el modelo en 5 epochs y batches de 16 imagenes\n",
    "\n",
    "epochs=5\n",
    "\n",
    "for epoch in range(epochs):\n",
    "\n",
    "    history = autoencoder.fit(\n",
    "      x_train,\n",
    "      x_train,\n",
    "      epochs=1, \n",
    "      batch_size=16, validation_split=0.10\n",
    "        )   \n",
    "    autoencoder.save(f\"models/AE-{epoch+1}.model\")\n"
   ]
  },
  {
   "cell_type": "code",
   "execution_count": 27,
   "id": "11d223ff-fba9-4ebb-9203-29880858cb18",
   "metadata": {},
   "outputs": [
    {
     "name": "stdout",
     "output_type": "stream",
     "text": [
      "(64,)\n",
      "[0.83867794 1.2491418  1.3113685  2.2947154  1.1435788  2.6750157\n",
      " 0.6586572  0.8805635  0.92221445 1.2250199  1.7284172  1.3305552\n",
      " 0.01087612 1.0941266  2.016294   1.0072619  1.3780513  1.7237071\n",
      " 0.60228044 1.1082274  0.31841505 0.81731415 2.6309125  1.5924144\n",
      " 1.2319001  0.6324132  0.07555449 0.80470604 1.2298982  0.05786511\n",
      " 1.6724875  0.7536601  1.7581221  1.0924345  0.         1.8184744\n",
      " 1.2780976  1.5051448  1.0484746  0.         0.6683581  0.75636876\n",
      " 0.45408103 1.1076896  0.80110276 0.         1.5009041  1.2352104\n",
      " 0.6796894  0.5467358  2.3804157  0.09047517 1.9284433  1.3974358\n",
      " 0.5879513  0.9887193  0.8731303  1.7986318  0.53575796 2.0789847\n",
      " 2.429594   0.32133776 1.2636945  1.4562923 ]\n"
     ]
    }
   ],
   "source": [
    "example = encoder.predict([ x_test[0].reshape(-1, 28, 28, 1) ])\n",
    "print(example[0].shape)\n",
    "print(example[0])"
   ]
  },
  {
   "cell_type": "code",
   "execution_count": 28,
   "id": "77684fe9-c7cd-4b88-9fde-3c0086d09a53",
   "metadata": {},
   "outputs": [
    {
     "data": {
      "text/plain": [
       "<matplotlib.image.AxesImage at 0x7f4e3c19c670>"
      ]
     },
     "execution_count": 28,
     "metadata": {},
     "output_type": "execute_result"
    },
    {
     "data": {
      "image/png": "[encoded data removed]",
      "text/plain": [
       "<Figure size 432x288 with 1 Axes>"
      ]
     },
     "metadata": {
      "needs_background": "light"
     },
     "output_type": "display_data"
    }
   ],
   "source": [
    "ae_out = autoencoder.predict([ x_test[0].reshape(-1, 28, 28, 1) ])\n",
    "img = ae_out[0]  # predict is done on a vector, and returns a vector, even if its just 1 element, so we still need to grab the 0th\n",
    "plt.imshow(ae_out[0], cmap=\"gray\")"
   ]
  },
  {
   "cell_type": "code",
   "execution_count": null,
   "id": "e22ef8b1-e4b9-480a-a4c5-0f44d96112d8",
   "metadata": {},
   "outputs": [],
   "source": []
  }
 ],
 "metadata": {
  "kernelspec": {
   "display_name": "tf",
   "language": "python",
   "name": "tf"
  },
  "language_info": {
   "codemirror_mode": {
    "name": "ipython",
    "version": 3
   },
   "file_extension": ".py",
   "mimetype": "text/x-python",
   "name": "python",
   "nbconvert_exporter": "python",
   "pygments_lexer": "ipython3",
   "version": "3.9.5"
  },
  "toc-autonumbering": true,
  "toc-showcode": true,
  "toc-showmarkdowntxt": false,
  "toc-showtags": false
 },
 "nbformat": 4,
 "nbformat_minor": 5
}
